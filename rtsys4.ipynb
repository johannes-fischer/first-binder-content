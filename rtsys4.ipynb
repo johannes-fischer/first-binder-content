{
 "cells": [
  {
   "cell_type": "markdown",
   "metadata": {},
   "source": [
    "Zunächst müssen die notwendigen Pakete geladen werden."
   ]
  },
  {
   "cell_type": "code",
   "execution_count": null,
   "metadata": {},
   "outputs": [],
   "source": [
    "using ControlSystems\n",
    "using LinearAlgebra\n",
    "using Plots\n",
    "using Interact\n",
    "using Printf"
   ]
  },
  {
   "cell_type": "markdown",
   "metadata": {
    "tags": []
   },
   "source": [
    "# Aufgabe 1"
   ]
  },
  {
   "cell_type": "markdown",
   "metadata": {},
   "source": [
    "Aufstellen der Zustandsraumdarstellung aus der Aufgabe."
   ]
  },
  {
   "cell_type": "code",
   "execution_count": null,
   "metadata": {},
   "outputs": [],
   "source": [
    "A, b, c, d = 1, 5, 2, 0"
   ]
  },
  {
   "cell_type": "code",
   "execution_count": null,
   "metadata": {},
   "outputs": [],
   "source": [
    "sys = ss(A, b, c, d)"
   ]
  },
  {
   "cell_type": "markdown",
   "metadata": {},
   "source": [
    "## Aufgabe 1.1"
   ]
  },
  {
   "cell_type": "markdown",
   "metadata": {},
   "source": [
    "Die Sprung- und Stoßantwort des Systems werden 5 Sekunden lang simuliert."
   ]
  },
  {
   "cell_type": "code",
   "execution_count": null,
   "metadata": {},
   "outputs": [],
   "source": [
    "t_sim = 5\n",
    "plot(step(sys, t_sim), label=\"Sprungantwort\")\n",
    "plot!(impulse(sys, t_sim), label=\"Stoßantwort\")"
   ]
  },
  {
   "cell_type": "markdown",
   "metadata": {},
   "source": [
    "Das System ist nicht bibo-stabil, da die Sprungantwort nicht amplitudenbeschränkt ist."
   ]
  },
  {
   "cell_type": "markdown",
   "metadata": {},
   "source": [
    "## Aufgabe 1.2"
   ]
  },
  {
   "cell_type": "markdown",
   "metadata": {},
   "source": [
    "Der Zustandsregler hat als Parameter die Rückführung $R$ und das Vorfilter $V$, die eingestellt werden können."
   ]
  },
  {
   "cell_type": "code",
   "execution_count": null,
   "metadata": {},
   "outputs": [],
   "source": [
    "@manipulate for R = 0.1:0.01:2, V = 0.05:0.001:1\n",
    "    # Resultierender Eigenwert\n",
    "    λ = 1 - 5R\n",
    "\n",
    "    # Zustandsraumdarstellung des geschlossenen Regelkreises mit Zustandsregler\n",
    "    sys_cl = ss(A - b * R, V * b, c, d)\n",
    "\n",
    "    # Simuliere Gesamtsystem\n",
    "    res = step(sys_cl, t_sim)\n",
    "    # Stellgröße u\n",
    "    u = V * res.u' - R * res.x'\n",
    "    \n",
    "    p = plot(res, label=\"y(t)\", ylim=(-0.5, 2.5))\n",
    "    plot!(res.t, u, label=\"u(t)\")\n",
    "    plot!(t -> 1, label=\"σ(t)\")\n",
    "    # Ausgabe von Eigenwert und Plot\n",
    "    hbox(@sprintf(\"λ = %.2f\", λ), hskip(5em), p)\n",
    "end"
   ]
  },
  {
   "cell_type": "markdown",
   "metadata": {},
   "source": [
    "Nun werden Rückführung und Vorfilter so bestimmt, dass das resultierende Gesamtsystem den gewünschten Eigenwert $\\lambda$ hat und stationär genau ist."
   ]
  },
  {
   "cell_type": "code",
   "execution_count": null,
   "metadata": {},
   "outputs": [],
   "source": [
    "@manipulate for λ = -5:0.01:-0.1\n",
    "    # Rückführung für gewünschten Eigenwert\n",
    "    R = (1 - λ) / 5\n",
    "    # Vorfilter für stationäre Genauigkeit\n",
    "    V = -λ / 10\n",
    "\n",
    "    # Zustandsraumdarstellung des geschlossenen Regelkreises mit Zustandsregler\n",
    "    sys_cl = ss(A - b * R, V * b, c, d)\n",
    "\n",
    "    # Simuliere Gesamtsystem\n",
    "    res = step(sys_cl, t_sim)\n",
    "    # Stellgröße u\n",
    "    u = V * res.u' - R * res.x'\n",
    "    \n",
    "    p = plot(res, label=\"y(t)\", ylim=(-0.5, 2.5))\n",
    "    plot!(res.t, u, label=\"u(t)\")\n",
    "    plot!(t -> 1, label=\"σ(t)\")\n",
    "    # Zeige Parameter und Plot\n",
    "    hbox(\n",
    "        vbox(\n",
    "            @sprintf(\"R = %.2f\", R), vskip(0),\n",
    "            @sprintf(\"V = %.2f\", V)\n",
    "        ), hskip(5em), p\n",
    "    )\n",
    "end"
   ]
  },
  {
   "cell_type": "markdown",
   "metadata": {},
   "source": [
    "## Aufgabe 1.3"
   ]
  },
  {
   "cell_type": "markdown",
   "metadata": {},
   "source": [
    "Nun wird ein P-Regler mit Verstärkung $K$ eingesetzt."
   ]
  },
  {
   "cell_type": "code",
   "execution_count": null,
   "metadata": {},
   "outputs": [],
   "source": [
    "@manipulate for K = 0.05:0.01:2\n",
    "    # Resultierender Eigenwert\n",
    "    λ = 1 - 10K\n",
    "\n",
    "    # Zustandsraumdarstellung des geschlossenen Regelkreises mit P-Regler\n",
    "    sys_cl = ss(A - K * b * c, K * b, c, d)\n",
    "    \n",
    "    # Simuliere Gesamtsystem\n",
    "    res = step(sys_cl, t_sim)\n",
    "    # Stellgröße u\n",
    "    u = K * (res.u' - res.y')\n",
    "    \n",
    "    p = plot(res, label=\"y(t)\", ylim=(-0.5, 2.5))\n",
    "    plot!(res.t, u, label=\"u(t)\")\n",
    "    plot!(t -> 1, label=\"σ(t)\")\n",
    "    # Ausgabe von Eigenwert und Plot\n",
    "    hbox(@sprintf(\"λ = %.2f\", λ), hskip(5em), p)\n",
    "end"
   ]
  },
  {
   "cell_type": "markdown",
   "metadata": {},
   "source": [
    "# Aufgabe 2"
   ]
  },
  {
   "cell_type": "markdown",
   "metadata": {},
   "source": [
    "Zur Stabilitätsüberprüfung mit Hilfe eines Computers können die Eigenwerte der Systemmatrix einfach berechnet werden."
   ]
  },
  {
   "cell_type": "code",
   "execution_count": null,
   "metadata": {},
   "outputs": [],
   "source": [
    "M = [ 0  1  0\n",
    "      0  0  1\n",
    "     -7 -3 -2 ]"
   ]
  },
  {
   "cell_type": "code",
   "execution_count": null,
   "metadata": {},
   "outputs": [],
   "source": [
    "v = eigvals(M)"
   ]
  },
  {
   "cell_type": "markdown",
   "metadata": {},
   "source": [
    "Überprufe ob alle Eigenwerte negativen Realteil haben:"
   ]
  },
  {
   "cell_type": "code",
   "execution_count": null,
   "metadata": {},
   "outputs": [],
   "source": [
    "all(real(v) .< 0) # der Punkt . bewirkt die elementweise Auswertung des Operators <"
   ]
  }
 ],
 "metadata": {
  "@webio": {
   "lastCommId": "43ea25b82ba84b038d4d229a65c3a7b9",
   "lastKernelId": "d22b3fa5-4679-4abf-82aa-fa5217761e04"
  },
  "kernelspec": {
   "display_name": "Julia 1.7.3",
   "language": "julia",
   "name": "julia-1.7"
  },
  "language_info": {
   "file_extension": ".jl",
   "mimetype": "application/julia",
   "name": "julia",
   "version": "1.7.3"
  }
 },
 "nbformat": 4,
 "nbformat_minor": 4
}
